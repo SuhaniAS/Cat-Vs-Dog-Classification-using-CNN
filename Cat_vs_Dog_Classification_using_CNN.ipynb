{
  "nbformat": 4,
  "nbformat_minor": 0,
  "metadata": {
    "colab": {
      "provenance": [],
      "gpuType": "T4"
    },
    "kernelspec": {
      "name": "python3",
      "display_name": "Python 3"
    },
    "language_info": {
      "name": "python"
    },
    "accelerator": "GPU"
  },
  "cells": [
    {
      "cell_type": "markdown",
      "source": [
        "We are going to import the data from kaggle website. Before using the API command, the following code is to be executed."
      ],
      "metadata": {
        "id": "NyyZN4EO-XSf"
      }
    },
    {
      "cell_type": "code",
      "execution_count": 1,
      "metadata": {
        "id": "FTYCdLiecTcH"
      },
      "outputs": [],
      "source": [
        "!mkdir -p ~/.kaggle\n",
        "!cp kaggle.json ~/.kaggle/"
      ]
    },
    {
      "cell_type": "markdown",
      "source": [
        "Import the data using API command."
      ],
      "metadata": {
        "id": "QkG_KItr_A9y"
      }
    },
    {
      "cell_type": "code",
      "source": [
        "!kaggle datasets download -d salader/dogs-vs-cats"
      ],
      "metadata": {
        "colab": {
          "base_uri": "https://localhost:8080/"
        },
        "id": "suKcAopkcq5T",
        "outputId": "201a7acc-9b9d-42a0-c228-8b217026653f"
      },
      "execution_count": 2,
      "outputs": [
        {
          "output_type": "stream",
          "name": "stdout",
          "text": [
            "Warning: Your Kaggle API key is readable by other users on this system! To fix this, you can run 'chmod 600 /root/.kaggle/kaggle.json'\n",
            "Downloading dogs-vs-cats.zip to /content\n",
            "100% 1.06G/1.06G [00:49<00:00, 23.3MB/s]\n",
            "100% 1.06G/1.06G [00:49<00:00, 23.2MB/s]\n"
          ]
        }
      ]
    },
    {
      "cell_type": "markdown",
      "source": [
        "The imported data is in the form of zipfile. So, in order to unzip it, we use the following code."
      ],
      "metadata": {
        "id": "vBD2O9JS_JHI"
      }
    },
    {
      "cell_type": "code",
      "source": [
        "from zipfile import ZipFile\n",
        "zip_ref = ZipFile('/content/dogs-vs-cats.zip','r')\n",
        "zip_ref.extractall('/content')\n",
        "zip_ref.close()"
      ],
      "metadata": {
        "id": "v7BS0E5oc1mC"
      },
      "execution_count": 4,
      "outputs": []
    },
    {
      "cell_type": "code",
      "source": [
        "import tensorflow as tf\n",
        "from tensorflow import keras"
      ],
      "metadata": {
        "id": "TMoLg5cNdP1V"
      },
      "execution_count": 5,
      "outputs": []
    },
    {
      "cell_type": "markdown",
      "source": [
        "Import train and test data using the above libraries and normalize it."
      ],
      "metadata": {
        "id": "8fUN27sJ_Zmi"
      }
    },
    {
      "cell_type": "code",
      "source": [
        "# generators\n",
        "train = keras.utils.image_dataset_from_directory(\n",
        "    directory = '/content/train',\n",
        "    labels = 'inferred',\n",
        "    label_mode = 'int',\n",
        "    batch_size=32,\n",
        "    image_size = (256,256)\n",
        ")\n",
        "\n",
        "test = keras.utils.image_dataset_from_directory(\n",
        "    directory = '/content/test',\n",
        "    labels = 'inferred',\n",
        "    label_mode = 'int',\n",
        "    batch_size=32,\n",
        "    image_size = (256,256)\n",
        ")\n",
        "\n",
        "#normalize\n",
        "def process(image, label):\n",
        "  image = tf.cast(image/255. , tf.float32)\n",
        "  return image,label\n",
        "\n",
        "train = train.map(process)\n",
        "test = test.map(process)"
      ],
      "metadata": {
        "colab": {
          "base_uri": "https://localhost:8080/"
        },
        "id": "azvzohVrWYmx",
        "outputId": "e2e5a080-383b-49f0-cc09-4688edbae5cc"
      },
      "execution_count": 6,
      "outputs": [
        {
          "output_type": "stream",
          "name": "stdout",
          "text": [
            "Found 20000 files belonging to 2 classes.\n",
            "Found 5000 files belonging to 2 classes.\n"
          ]
        }
      ]
    },
    {
      "cell_type": "code",
      "source": [
        "from keras import Sequential\n",
        "from keras.layers import Dense, Conv2D, MaxPooling2D, Flatten"
      ],
      "metadata": {
        "id": "Dwq7XqBU2F9P"
      },
      "execution_count": 7,
      "outputs": []
    },
    {
      "cell_type": "code",
      "source": [
        "#Create CNN\n",
        "model = Sequential()\n",
        "\n",
        "model.add(Conv2D(32, kernel_size=(3,3),padding='valid',activation = 'relu',input_shape=(256,256,3)))\n",
        "model.add(MaxPooling2D(pool_size=(2,2),strides=2,padding='valid'))\n",
        "\n",
        "model.add(Conv2D(64, kernel_size=(3,3),padding='valid',activation = 'relu'))\n",
        "model.add(MaxPooling2D(pool_size=(2,2),strides=2,padding='valid'))\n",
        "\n",
        "model.add(Conv2D(128, kernel_size=(3,3),padding='valid',activation = 'relu'))\n",
        "model.add(MaxPooling2D(pool_size=(2,2),strides=2,padding='valid'))\n",
        "\n",
        "model.add(Flatten())\n",
        "\n",
        "model.add(Dense(128,activation = 'relu'))\n",
        "model.add(Dense(64,activation = 'relu'))\n",
        "model.add(Dense(1,activation = 'sigmoid'))"
      ],
      "metadata": {
        "id": "IhEzFG13WO5A"
      },
      "execution_count": 8,
      "outputs": []
    },
    {
      "cell_type": "code",
      "source": [
        "#Obtain the summary of CNN\n",
        "model.summary()"
      ],
      "metadata": {
        "colab": {
          "base_uri": "https://localhost:8080/"
        },
        "id": "yEwjKcJssJKW",
        "outputId": "3d7c0618-ead5-4ccf-a0a4-6d274729e254"
      },
      "execution_count": 9,
      "outputs": [
        {
          "output_type": "stream",
          "name": "stdout",
          "text": [
            "Model: \"sequential\"\n",
            "_________________________________________________________________\n",
            " Layer (type)                Output Shape              Param #   \n",
            "=================================================================\n",
            " conv2d (Conv2D)             (None, 254, 254, 32)      896       \n",
            "                                                                 \n",
            " max_pooling2d (MaxPooling2  (None, 127, 127, 32)      0         \n",
            " D)                                                              \n",
            "                                                                 \n",
            " conv2d_1 (Conv2D)           (None, 125, 125, 64)      18496     \n",
            "                                                                 \n",
            " max_pooling2d_1 (MaxPoolin  (None, 62, 62, 64)        0         \n",
            " g2D)                                                            \n",
            "                                                                 \n",
            " conv2d_2 (Conv2D)           (None, 60, 60, 128)       73856     \n",
            "                                                                 \n",
            " max_pooling2d_2 (MaxPoolin  (None, 30, 30, 128)       0         \n",
            " g2D)                                                            \n",
            "                                                                 \n",
            " flatten (Flatten)           (None, 115200)            0         \n",
            "                                                                 \n",
            " dense (Dense)               (None, 128)               14745728  \n",
            "                                                                 \n",
            " dense_1 (Dense)             (None, 64)                8256      \n",
            "                                                                 \n",
            " dense_2 (Dense)             (None, 1)                 65        \n",
            "                                                                 \n",
            "=================================================================\n",
            "Total params: 14847297 (56.64 MB)\n",
            "Trainable params: 14847297 (56.64 MB)\n",
            "Non-trainable params: 0 (0.00 Byte)\n",
            "_________________________________________________________________\n"
          ]
        }
      ]
    },
    {
      "cell_type": "code",
      "source": [
        "model.compile(optimizer = 'adam', loss = 'binary_crossentropy', metrics=['accuracy'])"
      ],
      "metadata": {
        "id": "ltJp2fu0t-n2"
      },
      "execution_count": 10,
      "outputs": []
    },
    {
      "cell_type": "markdown",
      "source": [
        "The modeel buildeing is done from the above codes. Now we will have to fit the dataset into the model and test their accuracy.\n"
      ],
      "metadata": {
        "id": "22JPTKjU_3Qv"
      }
    },
    {
      "cell_type": "code",
      "source": [
        "history = model.fit(train, epochs=10,validation_data=test)"
      ],
      "metadata": {
        "colab": {
          "base_uri": "https://localhost:8080/"
        },
        "id": "wPNIiWdfuc-3",
        "outputId": "d0cf71d9-ad3c-43f8-d638-fdd3e8a872e2"
      },
      "execution_count": 11,
      "outputs": [
        {
          "output_type": "stream",
          "name": "stdout",
          "text": [
            "Epoch 1/10\n",
            "625/625 [==============================] - 64s 89ms/step - loss: 0.6019 - accuracy: 0.6768 - val_loss: 0.4848 - val_accuracy: 0.7706\n",
            "Epoch 2/10\n",
            "625/625 [==============================] - 57s 90ms/step - loss: 0.4613 - accuracy: 0.7819 - val_loss: 0.4385 - val_accuracy: 0.8058\n",
            "Epoch 3/10\n",
            "625/625 [==============================] - 54s 86ms/step - loss: 0.3508 - accuracy: 0.8421 - val_loss: 0.4967 - val_accuracy: 0.8020\n",
            "Epoch 4/10\n",
            "625/625 [==============================] - 53s 84ms/step - loss: 0.2271 - accuracy: 0.9044 - val_loss: 0.5907 - val_accuracy: 0.7996\n",
            "Epoch 5/10\n",
            "625/625 [==============================] - 52s 82ms/step - loss: 0.1223 - accuracy: 0.9544 - val_loss: 0.7837 - val_accuracy: 0.7990\n",
            "Epoch 6/10\n",
            "625/625 [==============================] - 54s 86ms/step - loss: 0.0779 - accuracy: 0.9729 - val_loss: 1.0160 - val_accuracy: 0.7918\n",
            "Epoch 7/10\n",
            "625/625 [==============================] - 55s 87ms/step - loss: 0.0590 - accuracy: 0.9796 - val_loss: 1.1551 - val_accuracy: 0.7856\n",
            "Epoch 8/10\n",
            "625/625 [==============================] - 56s 88ms/step - loss: 0.0438 - accuracy: 0.9862 - val_loss: 1.2106 - val_accuracy: 0.7856\n",
            "Epoch 9/10\n",
            "625/625 [==============================] - 52s 83ms/step - loss: 0.0414 - accuracy: 0.9857 - val_loss: 1.1484 - val_accuracy: 0.7876\n",
            "Epoch 10/10\n",
            "625/625 [==============================] - 52s 83ms/step - loss: 0.0317 - accuracy: 0.9900 - val_loss: 1.5320 - val_accuracy: 0.7980\n"
          ]
        }
      ]
    },
    {
      "cell_type": "markdown",
      "source": [
        "From the above output, it is clear that the model has an accuracy of 79.80%.\n",
        "Now let's graphically analyse the model performance."
      ],
      "metadata": {
        "id": "yI262-TSAQ8O"
      }
    },
    {
      "cell_type": "code",
      "source": [
        "#Accuracy\n",
        "import matplotlib.pyplot as plt\n",
        "plt.plot(history.history['accuracy'],color = 'red', label = 'train')\n",
        "plt.plot(history.history['val_accuracy'], color='blue', label = 'test')\n",
        "plt.legend()\n",
        "plt.show()"
      ],
      "metadata": {
        "id": "JU0-Emw5vj0z",
        "colab": {
          "base_uri": "https://localhost:8080/",
          "height": 430
        },
        "outputId": "92f94762-0244-4ae5-c4a3-5e3c0c730694"
      },
      "execution_count": 16,
      "outputs": [
        {
          "output_type": "display_data",
          "data": {
            "text/plain": [
              "<Figure size 640x480 with 1 Axes>"
            ],
            "image/png": "[encoded data removed]"
          },
          "metadata": {}
        }
      ]
    },
    {
      "cell_type": "code",
      "source": [
        "#loss\n",
        "plt.plot(history.history['loss'],color='green',label='train')\n",
        "plt.plot(history.history['val_loss'], color = 'purple', label='test')\n",
        "plt.legend()\n",
        "plt.show()"
      ],
      "metadata": {
        "colab": {
          "base_uri": "https://localhost:8080/",
          "height": 434
        },
        "id": "0FeGVtVl9acQ",
        "outputId": "4d4a4799-6382-4b5b-dda2-0df0f58b40d6"
      },
      "execution_count": 17,
      "outputs": [
        {
          "output_type": "display_data",
          "data": {
            "text/plain": [
              "<Figure size 640x480 with 1 Axes>"
            ],
            "image/png": "[encoded data removed]"
          },
          "metadata": {}
        }
      ]
    },
    {
      "cell_type": "markdown",
      "source": [
        "We can notice from both the graph that there is a lot of difference between train and test. This means that, overfitting is happening."
      ],
      "metadata": {
        "id": "FXcCkzGVBSvA"
      }
    },
    {
      "cell_type": "code",
      "source": [],
      "metadata": {
        "id": "GugH_E63-QBu"
      },
      "execution_count": null,
      "outputs": []
    }
  ]
}